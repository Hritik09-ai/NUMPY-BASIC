{
 "cells": [
  {
   "cell_type": "code",
   "execution_count": 2,
   "id": "41d6f2bf-880f-472d-b575-e6cb4c48fdd9",
   "metadata": {},
   "outputs": [
    {
     "name": "stdout",
     "output_type": "stream",
     "text": [
      "Data type of list_: <class 'list'>\n",
      "Data type of array_list: <U1\n"
     ]
    }
   ],
   "source": [
    "# Consider the below code to answer further questions:\n",
    "import numpy as np\n",
    "list_ = ['1' ,'2' , '3' , '4' , '5' ]\n",
    "array_list = np.array(object = list_)\n",
    "# QUESTION.1 Is there any difference in the data type of variables list_ and array_list? If there is then write a code\n",
    "#            to print the data types of both the variables.\n",
    "# ANSWER import numpy as np\n",
    "\n",
    "list_ = ['1', '2', '3', '4', '5']\n",
    "array_list = np.array(object=list_)\n",
    "\n",
    "print(\"Data type of list_:\", type(list_))\n",
    "print(\"Data type of array_list:\", array_list.dtype)"
   ]
  },
  {
   "cell_type": "code",
   "execution_count": null,
   "id": "778ee914-74ef-4744-a1d6-a43642e264cf",
   "metadata": {},
   "outputs": [],
   "source": []
  },
  {
   "cell_type": "code",
   "execution_count": 3,
   "id": "aed604e1-4482-404e-8eb2-83bb591aa46b",
   "metadata": {},
   "outputs": [
    {
     "name": "stdout",
     "output_type": "stream",
     "text": [
      "Data types of elements in list_:\n",
      "<class 'str'>\n",
      "<class 'str'>\n",
      "<class 'str'>\n",
      "<class 'str'>\n",
      "<class 'str'>\n",
      "\n",
      "Data types of elements in array_list:\n",
      "<U1\n",
      "<U1\n",
      "<U1\n",
      "<U1\n",
      "<U1\n"
     ]
    }
   ],
   "source": [
    "# QUESTION.2 Write a code to print the data type of each and every element of both the variables list_ and arra_list.\n",
    "# ANSWER \n",
    "import numpy as np\n",
    "\n",
    "list_ = ['1', '2', '3', '4', '5']\n",
    "array_list = np.array(object=list_)\n",
    "\n",
    "# Print data types of elements in list_\n",
    "print(\"Data types of elements in list_:\")\n",
    "for i in list_:\n",
    "    print(type(i))\n",
    "\n",
    "# Print data types of elements in array_list\n",
    "print(\"\\nData types of elements in array_list:\")\n",
    "for i in array_list:\n",
    "    print(i.dtype)\n"
   ]
  },
  {
   "cell_type": "code",
   "execution_count": null,
   "id": "252736c9-c808-41cd-9eb4-fc2196cee1de",
   "metadata": {},
   "outputs": [],
   "source": []
  },
  {
   "cell_type": "code",
   "execution_count": 4,
   "id": "82c4fe55-0b06-4b2f-a209-7fdd47ece019",
   "metadata": {},
   "outputs": [
    {
     "name": "stdout",
     "output_type": "stream",
     "text": [
      "Data type of element in list_:  <class 'str'>\n",
      "Data type of element in list_:  <class 'str'>\n",
      "Data type of element in list_:  <class 'str'>\n",
      "Data type of element in list_:  <class 'str'>\n",
      "Data type of element in list_:  <class 'str'>\n",
      "Data type of element in array_list:  <class 'numpy.int64'>\n",
      "Data type of element in array_list:  <class 'numpy.int64'>\n",
      "Data type of element in array_list:  <class 'numpy.int64'>\n",
      "Data type of element in array_list:  <class 'numpy.int64'>\n",
      "Data type of element in array_list:  <class 'numpy.int64'>\n"
     ]
    }
   ],
   "source": [
    "# QUESTION.3 Considering the following changes in the variable, array_list:\n",
    "\n",
    "array_list = np.array(object = list_, dtype = int)\n",
    "# Will there be any difference in the data type of the elements present in both the variables, list_ and\n",
    "# arra_list? If so then print the data types of each and every element present in both the variables, list_\n",
    "# and arra_list.\n",
    "# ANSWER \n",
    "import numpy as np\n",
    "list_ = ['1', '2', '3', '4', '5']\n",
    "array_list = np.array(object=list_, dtype=int)\n",
    "\n",
    "# Data types of each element in list_\n",
    "for i in list_:\n",
    "    print(\"Data type of element in list_: \", type(i))\n",
    "\n",
    "# Data types of each element in array_list\n",
    "for i in array_list:\n",
    "    print(\"Data type of element in array_list: \", type(i))\n"
   ]
  },
  {
   "cell_type": "code",
   "execution_count": null,
   "id": "e006602d-0062-42fd-a736-1e97a121e7a8",
   "metadata": {},
   "outputs": [],
   "source": []
  },
  {
   "cell_type": "code",
   "execution_count": 1,
   "id": "9efdc46a-01fa-400c-8f14-401423a7b18c",
   "metadata": {},
   "outputs": [
    {
     "name": "stdout",
     "output_type": "stream",
     "text": [
      "Shape: (2, 3)\n",
      "Size: 6\n"
     ]
    }
   ],
   "source": [
    "#  Consider the below code to answer further questions:\n",
    "import numpy as np\n",
    "num_list = [ [ 1 , 2 , 3 ] , [ 4 , 5 , 6 ] ]\n",
    "num_array = np.array(object = num_list)\n",
    "# QUESTION.4 Write a code to find the following characteristics of variable, num_array:\n",
    "#         (i) shape\n",
    "#         (ii) size\n",
    "# ANSWER \n",
    "import numpy as np\n",
    "\n",
    "num_list = [[1, 2, 3], [4, 5, 6]]\n",
    "num_array = np.array(object=num_list)\n",
    "\n",
    "# (i) Finding the shape\n",
    "shape = num_array.shape\n",
    "\n",
    "# (ii) Finding the size\n",
    "size = num_array.size\n",
    "\n",
    "print(\"Shape:\", shape)\n",
    "print(\"Size:\", size)\n"
   ]
  },
  {
   "cell_type": "code",
   "execution_count": null,
   "id": "363d27ed-df73-49f5-a52e-b52ce8f7edb0",
   "metadata": {},
   "outputs": [],
   "source": []
  },
  {
   "cell_type": "code",
   "execution_count": 2,
   "id": "f0bd6db2-84fc-4ae7-a0cb-182a3375dc87",
   "metadata": {},
   "outputs": [
    {
     "name": "stdout",
     "output_type": "stream",
     "text": [
      "[[0. 0. 0.]\n",
      " [0. 0. 0.]\n",
      " [0. 0. 0.]]\n"
     ]
    }
   ],
   "source": [
    "# QUESTION.5 Write a code to create numpy array of 3*3 matrix containing zeros only, using a numpy array\n",
    "#            creation function.\n",
    "#           [Hint: The size of the array will be 9 and the shape will be (3,3).]\n",
    "# ANSWER \n",
    "import numpy as np\n",
    "zeros_array = np.zeros((3, 3))\n",
    "print(zeros_array)"
   ]
  },
  {
   "cell_type": "code",
   "execution_count": null,
   "id": "7627ade1-57f1-4ced-9990-b5f1f5f8d8c9",
   "metadata": {},
   "outputs": [],
   "source": []
  },
  {
   "cell_type": "code",
   "execution_count": 3,
   "id": "b8ac8603-b69c-438b-b863-a9594c506107",
   "metadata": {},
   "outputs": [
    {
     "name": "stdout",
     "output_type": "stream",
     "text": [
      "[[1. 0. 0. 0. 0.]\n",
      " [0. 1. 0. 0. 0.]\n",
      " [0. 0. 1. 0. 0.]\n",
      " [0. 0. 0. 1. 0.]\n",
      " [0. 0. 0. 0. 1.]]\n"
     ]
    }
   ],
   "source": [
    "# QUESTION.6 Create an identity matrix of shape (5,5) using numpy functions?\n",
    "#          [Hint: An identity matrix is a matrix containing 1 diagonally and other elements will be 0.]\n",
    "# ANSWER \n",
    "import numpy as np\n",
    "\n",
    "identity_matrix = np.eye(5)\n",
    "print(identity_matrix)\n"
   ]
  },
  {
   "cell_type": "code",
   "execution_count": null,
   "id": "5dcfe677-5d22-4707-8325-fb1148efa49b",
   "metadata": {},
   "outputs": [],
   "source": []
  }
 ],
 "metadata": {
  "kernelspec": {
   "display_name": "Python 3 (ipykernel)",
   "language": "python",
   "name": "python3"
  },
  "language_info": {
   "codemirror_mode": {
    "name": "ipython",
    "version": 3
   },
   "file_extension": ".py",
   "mimetype": "text/x-python",
   "name": "python",
   "nbconvert_exporter": "python",
   "pygments_lexer": "ipython3",
   "version": "3.10.8"
  }
 },
 "nbformat": 4,
 "nbformat_minor": 5
}
